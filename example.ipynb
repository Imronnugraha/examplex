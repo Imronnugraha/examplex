{
 "cells": [
  {
   "cell_type": "code",
   "execution_count": 1,
   "id": "0d4842a5-2294-4d1e-8341-01b2bdc54759",
   "metadata": {},
   "outputs": [
    {
     "name": "stdout",
     "output_type": "stream",
     "text": [
      "hello WOrld\n"
     ]
    }
   ],
   "source": [
    "print(\"hello WOrld\")"
   ]
  },
  {
   "cell_type": "code",
   "execution_count": null,
   "id": "35256c4d-a211-469c-9e60-145b257f9dca",
   "metadata": {},
   "outputs": [],
   "source": []
  }
 ],
 "metadata": {
  "kernelspec": {
   "display_name": "Python 3 (ipykernel)",
   "language": "python",
   "name": "python3"
  },
  "language_info": {
   "codemirror_mode": {
    "name": "ipython",
    "version": 3
   },
   "file_extension": ".py",
   "mimetype": "text/x-python",
   "name": "python",
   "nbconvert_exporter": "python",
   "pygments_lexer": "ipython3",
   "version": "3.11.3"
  }
 },
 "nbformat": 4,
 "nbformat_minor": 5
}
